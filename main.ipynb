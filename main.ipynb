{
  "cells": [
    {
      "cell_type": "code",
      "source": [
        "# Team YOLO\n",
        "# 19.11.2022\n",
        "# Amol Kodange\n",
        "# Mohit Shah\n",
        "# Srishti Mishra"
      ],
      "metadata": {
        "id": "wpL5YwMM43ln"
      },
      "id": "wpL5YwMM43ln",
      "execution_count": 52,
      "outputs": []
    },
    {
      "cell_type": "code",
      "execution_count": 46,
      "metadata": {
        "id": "f1bb6b43"
      },
      "outputs": [],
      "source": [
        "import pandas as pd\n",
        "import numpy as np\n",
        "import shutil\n",
        "from pathlib import PurePath\n",
        "import tensorflow as tf\n",
        "from keras.applications.inception_resnet_v2 import InceptionResNetV2, preprocess_input\n",
        "from keras.layers import Flatten, Dense, Dropout\n",
        "from keras.models import Model\n",
        "from tensorflow.keras.optimizers import Adam\n",
        "from keras.preprocessing.image import ImageDataGenerator\n",
        "#from sklearn import f1_score\n",
        "from sklearn.model_selection import train_test_split\n",
        "from sklearn.metrics import classification_report, confusion_matrix\n",
        "\n",
        "import splitfolders"
      ],
      "id": "f1bb6b43"
    },
    {
      "cell_type": "code",
      "source": [],
      "metadata": {
        "id": "zE6g8XtDhwsn"
      },
      "id": "zE6g8XtDhwsn",
      "execution_count": 46,
      "outputs": []
    },
    {
      "cell_type": "code",
      "execution_count": 47,
      "metadata": {
        "colab": {
          "base_uri": "https://localhost:8080/",
          "height": 206
        },
        "id": "626a871b",
        "outputId": "bd00ddac-c148-43e1-9f9b-9174b528c88d"
      },
      "outputs": [
        {
          "output_type": "execute_result",
          "data": {
            "text/plain": [
              "   label  latitude   longitude  year                    example_path\n",
              "0      0 -2.051853  111.826093  2001  train_test_data/train/1297.png\n",
              "1      2 -1.989349  105.309496  2013  train_test_data/train/1199.png\n",
              "2      0  1.223256  100.702217  2014  train_test_data/train/1348.png\n",
              "3      0 -2.342948  103.890226  2008  train_test_data/train/2214.png\n",
              "4      0 -0.126555  101.758175  2011  train_test_data/train/2220.png"
            ],
            "text/html": [
              "\n",
              "  <div id=\"df-da58af06-202a-4818-9202-b7f0d133be50\">\n",
              "    <div class=\"colab-df-container\">\n",
              "      <div>\n",
              "<style scoped>\n",
              "    .dataframe tbody tr th:only-of-type {\n",
              "        vertical-align: middle;\n",
              "    }\n",
              "\n",
              "    .dataframe tbody tr th {\n",
              "        vertical-align: top;\n",
              "    }\n",
              "\n",
              "    .dataframe thead th {\n",
              "        text-align: right;\n",
              "    }\n",
              "</style>\n",
              "<table border=\"1\" class=\"dataframe\">\n",
              "  <thead>\n",
              "    <tr style=\"text-align: right;\">\n",
              "      <th></th>\n",
              "      <th>label</th>\n",
              "      <th>latitude</th>\n",
              "      <th>longitude</th>\n",
              "      <th>year</th>\n",
              "      <th>example_path</th>\n",
              "    </tr>\n",
              "  </thead>\n",
              "  <tbody>\n",
              "    <tr>\n",
              "      <th>0</th>\n",
              "      <td>0</td>\n",
              "      <td>-2.051853</td>\n",
              "      <td>111.826093</td>\n",
              "      <td>2001</td>\n",
              "      <td>train_test_data/train/1297.png</td>\n",
              "    </tr>\n",
              "    <tr>\n",
              "      <th>1</th>\n",
              "      <td>2</td>\n",
              "      <td>-1.989349</td>\n",
              "      <td>105.309496</td>\n",
              "      <td>2013</td>\n",
              "      <td>train_test_data/train/1199.png</td>\n",
              "    </tr>\n",
              "    <tr>\n",
              "      <th>2</th>\n",
              "      <td>0</td>\n",
              "      <td>1.223256</td>\n",
              "      <td>100.702217</td>\n",
              "      <td>2014</td>\n",
              "      <td>train_test_data/train/1348.png</td>\n",
              "    </tr>\n",
              "    <tr>\n",
              "      <th>3</th>\n",
              "      <td>0</td>\n",
              "      <td>-2.342948</td>\n",
              "      <td>103.890226</td>\n",
              "      <td>2008</td>\n",
              "      <td>train_test_data/train/2214.png</td>\n",
              "    </tr>\n",
              "    <tr>\n",
              "      <th>4</th>\n",
              "      <td>0</td>\n",
              "      <td>-0.126555</td>\n",
              "      <td>101.758175</td>\n",
              "      <td>2011</td>\n",
              "      <td>train_test_data/train/2220.png</td>\n",
              "    </tr>\n",
              "  </tbody>\n",
              "</table>\n",
              "</div>\n",
              "      <button class=\"colab-df-convert\" onclick=\"convertToInteractive('df-da58af06-202a-4818-9202-b7f0d133be50')\"\n",
              "              title=\"Convert this dataframe to an interactive table.\"\n",
              "              style=\"display:none;\">\n",
              "        \n",
              "  <svg xmlns=\"http://www.w3.org/2000/svg\" height=\"24px\"viewBox=\"0 0 24 24\"\n",
              "       width=\"24px\">\n",
              "    <path d=\"M0 0h24v24H0V0z\" fill=\"none\"/>\n",
              "    <path d=\"M18.56 5.44l.94 2.06.94-2.06 2.06-.94-2.06-.94-.94-2.06-.94 2.06-2.06.94zm-11 1L8.5 8.5l.94-2.06 2.06-.94-2.06-.94L8.5 2.5l-.94 2.06-2.06.94zm10 10l.94 2.06.94-2.06 2.06-.94-2.06-.94-.94-2.06-.94 2.06-2.06.94z\"/><path d=\"M17.41 7.96l-1.37-1.37c-.4-.4-.92-.59-1.43-.59-.52 0-1.04.2-1.43.59L10.3 9.45l-7.72 7.72c-.78.78-.78 2.05 0 2.83L4 21.41c.39.39.9.59 1.41.59.51 0 1.02-.2 1.41-.59l7.78-7.78 2.81-2.81c.8-.78.8-2.07 0-2.86zM5.41 20L4 18.59l7.72-7.72 1.47 1.35L5.41 20z\"/>\n",
              "  </svg>\n",
              "      </button>\n",
              "      \n",
              "  <style>\n",
              "    .colab-df-container {\n",
              "      display:flex;\n",
              "      flex-wrap:wrap;\n",
              "      gap: 12px;\n",
              "    }\n",
              "\n",
              "    .colab-df-convert {\n",
              "      background-color: #E8F0FE;\n",
              "      border: none;\n",
              "      border-radius: 50%;\n",
              "      cursor: pointer;\n",
              "      display: none;\n",
              "      fill: #1967D2;\n",
              "      height: 32px;\n",
              "      padding: 0 0 0 0;\n",
              "      width: 32px;\n",
              "    }\n",
              "\n",
              "    .colab-df-convert:hover {\n",
              "      background-color: #E2EBFA;\n",
              "      box-shadow: 0px 1px 2px rgba(60, 64, 67, 0.3), 0px 1px 3px 1px rgba(60, 64, 67, 0.15);\n",
              "      fill: #174EA6;\n",
              "    }\n",
              "\n",
              "    [theme=dark] .colab-df-convert {\n",
              "      background-color: #3B4455;\n",
              "      fill: #D2E3FC;\n",
              "    }\n",
              "\n",
              "    [theme=dark] .colab-df-convert:hover {\n",
              "      background-color: #434B5C;\n",
              "      box-shadow: 0px 1px 3px 1px rgba(0, 0, 0, 0.15);\n",
              "      filter: drop-shadow(0px 1px 2px rgba(0, 0, 0, 0.3));\n",
              "      fill: #FFFFFF;\n",
              "    }\n",
              "  </style>\n",
              "\n",
              "      <script>\n",
              "        const buttonEl =\n",
              "          document.querySelector('#df-da58af06-202a-4818-9202-b7f0d133be50 button.colab-df-convert');\n",
              "        buttonEl.style.display =\n",
              "          google.colab.kernel.accessAllowed ? 'block' : 'none';\n",
              "\n",
              "        async function convertToInteractive(key) {\n",
              "          const element = document.querySelector('#df-da58af06-202a-4818-9202-b7f0d133be50');\n",
              "          const dataTable =\n",
              "            await google.colab.kernel.invokeFunction('convertToInteractive',\n",
              "                                                     [key], {});\n",
              "          if (!dataTable) return;\n",
              "\n",
              "          const docLinkHtml = 'Like what you see? Visit the ' +\n",
              "            '<a target=\"_blank\" href=https://colab.research.google.com/notebooks/data_table.ipynb>data table notebook</a>'\n",
              "            + ' to learn more about interactive tables.';\n",
              "          element.innerHTML = '';\n",
              "          dataTable['output_type'] = 'display_data';\n",
              "          await google.colab.output.renderOutput(dataTable, element);\n",
              "          const docLink = document.createElement('div');\n",
              "          docLink.innerHTML = docLinkHtml;\n",
              "          element.appendChild(docLink);\n",
              "        }\n",
              "      </script>\n",
              "    </div>\n",
              "  </div>\n",
              "  "
            ]
          },
          "metadata": {},
          "execution_count": 47
        }
      ],
      "source": [
        "df = pd.read_csv(\"train.csv\")\n",
        "df.head()"
      ],
      "id": "626a871b"
    },
    {
      "cell_type": "code",
      "execution_count": 16,
      "metadata": {
        "id": "65615755"
      },
      "outputs": [],
      "source": [],
      "id": "65615755"
    },
    {
      "cell_type": "code",
      "execution_count": 17,
      "metadata": {
        "id": "f77b9dd5"
      },
      "outputs": [],
      "source": [
        "#df_np = np.asarray(df)\n",
        "#labels = df_np[:,0]\n",
        "#paths = df_np[:,4]\n",
        "#print(paths[0])\n",
        "\n",
        "#for element,x in enumerate(labels):\n",
        "#    p = PurePath(paths[element])\n",
        "#    spam = list(p.parts)\n",
        "#    spam.pop()\n",
        "#    if x == 0:\n",
        "#        spam.append('Class 0')\n",
        "#    elif x == 1:\n",
        "#        spam.append('Class 1')\n",
        "#    else:\n",
        "#        spam.append('Class 2')\n",
        "#    new_path = PurePath('').joinpath(*spam)\n",
        "#    shutil.move(paths[element], new_path)"
      ],
      "id": "f77b9dd5"
    },
    {
      "cell_type": "code",
      "execution_count": 34,
      "metadata": {
        "id": "23dbfb6d",
        "colab": {
          "base_uri": "https://localhost:8080/"
        },
        "outputId": "f482ef34-85ba-4796-bd68-ea62d5cdfa10"
      },
      "outputs": [
        {
          "output_type": "stream",
          "name": "stderr",
          "text": [
            "Copying files: 1714 files [00:17, 100.01 files/s]\n"
          ]
        }
      ],
      "source": [
        "splitfolders.ratio(r\"/content/drive/MyDrive/Hackathon/train_test_data/train\",output=\"/content/drive/MyDrive/Hackathon/train_test_data/train\",seed=42,ratio=(0.8,0.2,0.0), group_prefix=None,move=False)"
      ],
      "id": "23dbfb6d"
    },
    {
      "cell_type": "code",
      "execution_count": 48,
      "metadata": {
        "id": "56df2691"
      },
      "outputs": [],
      "source": [
        "DATASET_PATH  = r\"/content/drive/MyDrive/Hackathon/train_test_data\"\n",
        "IMAGE_SIZE  = (332, 332)\n",
        "NUM_CLASSES = 3\n",
        "BATCH_SIZE   = 8  # try reducing batch size or freeze more layers if your GPU runs out of memory\n",
        "FREEZE_LAYERS = 2  # freeze the first this many layers for training\n",
        "NUM_EPOCHS    = 20\n",
        "WEIGHTS_FINAL = 'model-inception_resnet_v2-final.h5'"
      ],
      "id": "56df2691"
    },
    {
      "cell_type": "code",
      "execution_count": 49,
      "metadata": {
        "colab": {
          "base_uri": "https://localhost:8080/"
        },
        "id": "afcce3ed",
        "outputId": "bb81c1f1-fb78-446e-fcae-e253fab6f0b6"
      },
      "outputs": [
        {
          "output_type": "stream",
          "name": "stderr",
          "text": [
            "/usr/local/lib/python3.7/dist-packages/keras/optimizers/optimizer_v2/adam.py:110: UserWarning: The `lr` argument is deprecated, use `learning_rate` instead.\n",
            "  super(Adam, self).__init__(name, **kwargs)\n"
          ]
        },
        {
          "output_type": "stream",
          "name": "stdout",
          "text": [
            "Found 1370 images belonging to 3 classes.\n",
            "Found 342 images belonging to 3 classes.\n"
          ]
        }
      ],
      "source": [
        "net = tf.keras.applications.InceptionResNetV2(\n",
        "    include_top=False,\n",
        "    weights=\"imagenet\",\n",
        "    input_tensor=None,\n",
        "    input_shape=(IMAGE_SIZE[0],IMAGE_SIZE[1],3))\n",
        "\n",
        "x = net.output\n",
        "\n",
        "x = Flatten()(x)\n",
        "x = Dropout(0.5)(x)\n",
        "\n",
        "output_layer = Dense(NUM_CLASSES, activation='softmax')(x)\n",
        "\n",
        "net_final = Model(inputs=net.input, outputs=output_layer)\n",
        "\n",
        "for layer in net_final.layers[:FREEZE_LAYERS]:\n",
        "    layer.trainable = False\n",
        "for layer in net_final.layers[FREEZE_LAYERS:]:\n",
        "    layer.trainable = True\n",
        "net_final.compile(optimizer=Adam(lr=1e-5), loss='categorical_crossentropy', metrics=['accuracy'])\n",
        "#print(net_final.summary())\n",
        "\n",
        "train_datagen = ImageDataGenerator(preprocessing_function=preprocess_input,\n",
        "                                   rotation_range=40,\n",
        "                                   width_shift_range=0.2,\n",
        "                                   height_shift_range=0.2,\n",
        "                                   shear_range=0.2,\n",
        "                                   zoom_range=0.2,\n",
        "                                   channel_shift_range=10,\n",
        "                                   horizontal_flip=True,\n",
        "                                   fill_mode='nearest')\n",
        "train_df = DATASET_PATH + '/train/train'\n",
        "val_df = DATASET_PATH + '/train/val'\n",
        "train_batches = train_datagen.flow_from_directory(train_df,\n",
        "                                                  target_size=IMAGE_SIZE,\n",
        "                                                  shuffle=True,\n",
        "                                                  batch_size=BATCH_SIZE)\n",
        "\n",
        "valid_datagen = ImageDataGenerator(preprocessing_function=preprocess_input)\n",
        "valid_batches = valid_datagen.flow_from_directory(val_df,\n",
        "                                                  target_size=IMAGE_SIZE,\n",
        "                                                  shuffle=True,\n",
        "                                                  batch_size=BATCH_SIZE)\n"
      ],
      "id": "afcce3ed"
    },
    {
      "cell_type": "code",
      "execution_count": 50,
      "metadata": {
        "id": "baec0d10",
        "colab": {
          "base_uri": "https://localhost:8080/"
        },
        "outputId": "92a14bd8-e142-4cd1-d408-9e9d1c5e8244"
      },
      "outputs": [
        {
          "output_type": "stream",
          "name": "stderr",
          "text": [
            "/usr/local/lib/python3.7/dist-packages/ipykernel_launcher.py:5: UserWarning: `Model.fit_generator` is deprecated and will be removed in a future version. Please use `Model.fit`, which supports generators.\n",
            "  \"\"\"\n"
          ]
        },
        {
          "output_type": "stream",
          "name": "stdout",
          "text": [
            "Epoch 1/20\n",
            "171/171 [==============================] - 93s 441ms/step - loss: 1.0680 - accuracy: 0.5264 - val_loss: 0.9770 - val_accuracy: 0.5536\n",
            "Epoch 2/20\n",
            "171/171 [==============================] - 73s 428ms/step - loss: 0.9323 - accuracy: 0.6028 - val_loss: 0.8536 - val_accuracy: 0.6071\n",
            "Epoch 3/20\n",
            "171/171 [==============================] - 73s 423ms/step - loss: 0.8848 - accuracy: 0.6322 - val_loss: 0.7607 - val_accuracy: 0.6815\n",
            "Epoch 4/20\n",
            "171/171 [==============================] - 72s 422ms/step - loss: 0.8033 - accuracy: 0.6755 - val_loss: 0.7106 - val_accuracy: 0.7232\n",
            "Epoch 5/20\n",
            "171/171 [==============================] - 73s 427ms/step - loss: 0.7671 - accuracy: 0.6916 - val_loss: 0.7283 - val_accuracy: 0.7292\n",
            "Epoch 6/20\n",
            "171/171 [==============================] - 72s 421ms/step - loss: 0.7537 - accuracy: 0.6909 - val_loss: 0.6992 - val_accuracy: 0.7083\n",
            "Epoch 7/20\n",
            "171/171 [==============================] - 73s 427ms/step - loss: 0.7290 - accuracy: 0.7048 - val_loss: 0.6431 - val_accuracy: 0.7560\n",
            "Epoch 8/20\n",
            "171/171 [==============================] - 72s 421ms/step - loss: 0.7079 - accuracy: 0.7159 - val_loss: 0.6485 - val_accuracy: 0.7589\n",
            "Epoch 9/20\n",
            "171/171 [==============================] - 73s 426ms/step - loss: 0.7012 - accuracy: 0.7247 - val_loss: 2.1213 - val_accuracy: 0.7708\n",
            "Epoch 10/20\n",
            "171/171 [==============================] - 72s 422ms/step - loss: 0.7544 - accuracy: 0.6887 - val_loss: 0.8554 - val_accuracy: 0.7738\n",
            "Epoch 11/20\n",
            "171/171 [==============================] - 73s 427ms/step - loss: 0.6619 - accuracy: 0.7430 - val_loss: 0.5794 - val_accuracy: 0.7857\n",
            "Epoch 12/20\n",
            "171/171 [==============================] - 72s 421ms/step - loss: 0.6649 - accuracy: 0.7379 - val_loss: 0.5823 - val_accuracy: 0.7917\n",
            "Epoch 13/20\n",
            "171/171 [==============================] - 73s 425ms/step - loss: 0.6016 - accuracy: 0.7555 - val_loss: 0.6297 - val_accuracy: 0.7679\n",
            "Epoch 14/20\n",
            "171/171 [==============================] - 72s 421ms/step - loss: 0.6126 - accuracy: 0.7606 - val_loss: 0.5734 - val_accuracy: 0.7827\n",
            "Epoch 15/20\n",
            "171/171 [==============================] - 73s 428ms/step - loss: 0.6016 - accuracy: 0.7731 - val_loss: 0.5527 - val_accuracy: 0.7798\n",
            "Epoch 16/20\n",
            "171/171 [==============================] - 73s 427ms/step - loss: 0.5612 - accuracy: 0.7783 - val_loss: 0.5738 - val_accuracy: 0.7857\n",
            "Epoch 17/20\n",
            "171/171 [==============================] - 72s 420ms/step - loss: 0.5955 - accuracy: 0.7673 - val_loss: 0.5506 - val_accuracy: 0.8065\n",
            "Epoch 18/20\n",
            "171/171 [==============================] - 73s 425ms/step - loss: 0.5440 - accuracy: 0.7974 - val_loss: 0.5144 - val_accuracy: 0.8214\n",
            "Epoch 19/20\n",
            "171/171 [==============================] - 72s 422ms/step - loss: 0.5438 - accuracy: 0.7907 - val_loss: 0.5696 - val_accuracy: 0.8036\n",
            "Epoch 20/20\n",
            "171/171 [==============================] - 73s 426ms/step - loss: 0.5005 - accuracy: 0.7944 - val_loss: 0.5260 - val_accuracy: 0.8036\n"
          ]
        },
        {
          "output_type": "execute_result",
          "data": {
            "text/plain": [
              "<keras.callbacks.History at 0x7f2376efc090>"
            ]
          },
          "metadata": {},
          "execution_count": 50
        }
      ],
      "source": [
        "net_final.fit_generator(train_batches,\n",
        "                        steps_per_epoch = train_batches.samples // BATCH_SIZE,\n",
        "                        validation_data = valid_batches,\n",
        "                        validation_steps = valid_batches.samples // BATCH_SIZE,\n",
        "                        epochs = NUM_EPOCHS)"
      ],
      "id": "baec0d10"
    },
    {
      "cell_type": "code",
      "source": [
        "Y_pred = net_final.predict_generator(valid_batches,valid_batches.samples// BATCH_SIZE+1)\n",
        "y_pred = np.argmax(Y_pred, axis=1)\n",
        "\n",
        "print('Confusion Matrix')\n",
        "print(confusion_matrix(valid_batches.classes, y_pred))\n",
        "print('Classification Report')\n",
        "target_names = ['0','1','2']\n",
        "print(classification_report(valid_batches.classes, y_pred, target_names=target_names))\n"
      ],
      "metadata": {
        "colab": {
          "base_uri": "https://localhost:8080/"
        },
        "id": "VKXe2fDPfVfs",
        "outputId": "7af7349f-cd80-402b-e3d0-a19fd6f5d5f8"
      },
      "id": "VKXe2fDPfVfs",
      "execution_count": 51,
      "outputs": [
        {
          "output_type": "stream",
          "name": "stderr",
          "text": [
            "/usr/local/lib/python3.7/dist-packages/ipykernel_launcher.py:1: UserWarning: `Model.predict_generator` is deprecated and will be removed in a future version. Please use `Model.predict`, which supports generators.\n",
            "  \"\"\"Entry point for launching an IPython kernel.\n"
          ]
        },
        {
          "output_type": "stream",
          "name": "stdout",
          "text": [
            "Confusion Matrix\n",
            "[[95 25 52]\n",
            " [19  4 16]\n",
            " [77 12 42]]\n",
            "Classification Report\n",
            "              precision    recall  f1-score   support\n",
            "\n",
            "           0       0.50      0.55      0.52       172\n",
            "           1       0.10      0.10      0.10        39\n",
            "           2       0.38      0.32      0.35       131\n",
            "\n",
            "    accuracy                           0.41       342\n",
            "   macro avg       0.33      0.33      0.32       342\n",
            "weighted avg       0.41      0.41      0.41       342\n",
            "\n"
          ]
        }
      ]
    },
    {
      "cell_type": "markdown",
      "metadata": {
        "id": "_U9g3RODRcD6"
      },
      "source": [
        "# New Section"
      ],
      "id": "_U9g3RODRcD6"
    },
    {
      "cell_type": "code",
      "execution_count": null,
      "metadata": {
        "colab": {
          "base_uri": "https://localhost:8080/"
        },
        "id": "QuBDvmEdRioq",
        "outputId": "7003b5fd-93eb-4fdd-bf6d-869238d35d5e"
      },
      "outputs": [
        {
          "name": "stdout",
          "output_type": "stream",
          "text": [
            "Mounted at /content/drive\n"
          ]
        }
      ],
      "source": [
        "from google.colab import drive\n",
        "drive.mount('/content/drive')"
      ],
      "id": "QuBDvmEdRioq"
    },
    {
      "cell_type": "code",
      "execution_count": null,
      "metadata": {
        "id": "WUOIcUTJSXPg"
      },
      "outputs": [],
      "source": [],
      "id": "WUOIcUTJSXPg"
    }
  ],
  "metadata": {
    "accelerator": "GPU",
    "colab": {
      "provenance": []
    },
    "gpuClass": "standard",
    "kernelspec": {
      "display_name": "Python 3 (ipykernel)",
      "language": "python",
      "name": "python3"
    },
    "language_info": {
      "codemirror_mode": {
        "name": "ipython",
        "version": 3
      },
      "file_extension": ".py",
      "mimetype": "text/x-python",
      "name": "python",
      "nbconvert_exporter": "python",
      "pygments_lexer": "ipython3",
      "version": "3.9.7"
    }
  },
  "nbformat": 4,
  "nbformat_minor": 5
}